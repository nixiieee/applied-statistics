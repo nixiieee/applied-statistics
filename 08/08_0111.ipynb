{
  "nbformat": 4,
  "nbformat_minor": 0,
  "metadata": {
    "colab": {
      "provenance": []
    },
    "kernelspec": {
      "name": "python3",
      "display_name": "Python 3"
    },
    "language_info": {
      "name": "python"
    }
  },
  "cells": [
    {
      "cell_type": "code",
      "execution_count": 50,
      "metadata": {
        "id": "6-Vyf4n4bGLW"
      },
      "outputs": [],
      "source": [
        "import numpy as np\n",
        "import itertools\n",
        "import time\n",
        "\n",
        "n = 5  # Размерность функции - не 10 т.к. слишком вычислительно сложно\n",
        "\n",
        "x_values_f1 = np.linspace(0.0, 1.0, 11)  # Возможные значения переменных для f1\n",
        "all_points_f1 = list(itertools.product(x_values_f1, repeat=n))  # Все сочетания для f1\n",
        "\n",
        "x_values_f2 = np.linspace(1.0, 2.0, 11)  # Возможные значения переменных для f2\n",
        "all_points_f2 = list(itertools.product(x_values_f2, repeat=n))  # Все сочетания для f2"
      ]
    },
    {
      "cell_type": "markdown",
      "source": [
        "# Практика"
      ],
      "metadata": {
        "id": "Ad_KdF88gI0h"
      }
    },
    {
      "cell_type": "code",
      "source": [
        "class DualNumber:\n",
        "    def __init__(self, real, dual=0):\n",
        "        self.real = real\n",
        "        self.dual = dual\n",
        "\n",
        "    def __add__(self, other):\n",
        "        if isinstance(other, DualNumber):\n",
        "            return DualNumber(self.real + other.real, self.dual + other.dual)\n",
        "        else:\n",
        "            return DualNumber(self.real + other, self.dual)\n",
        "\n",
        "    def __radd__(self, other):\n",
        "        return self + other\n",
        "\n",
        "    def __mul__(self, other):\n",
        "        if isinstance(other, DualNumber):\n",
        "            return DualNumber(self.real * other.real,\n",
        "                              self.real * other.dual + self.dual * other.real)\n",
        "        else:\n",
        "            return DualNumber(self.real * other, self.dual * other)\n",
        "\n",
        "    def __rmul__(self, other):\n",
        "        return self * other\n",
        "\n",
        "    def __pow__(self, power):\n",
        "        if isinstance(power, (int, float)):\n",
        "            # Обычное число в степени\n",
        "            return DualNumber(self.real**power, power * self.real**(power - 1) * self.dual)\n",
        "        elif isinstance(power, DualNumber):\n",
        "            if not isinstance(self.real, (int, float)):\n",
        "                raise TypeError(\"Base (self.real) must be a number when using DualNumber as power.\")\n",
        "            if self.real <= 0:\n",
        "                raise ValueError(\"Base (self.real) must be positive for logarithm in DualNumber.\")\n",
        "\n",
        "            # Реальная часть результата\n",
        "            real_part = self.real**power.real\n",
        "\n",
        "            # Производная части: log работает только для вещественных чисел\n",
        "            log_base = np.log(self.real)\n",
        "            dual_part = real_part * (power.dual * log_base + power.real * self.dual / self.real)\n",
        "\n",
        "            return DualNumber(real_part, dual_part)\n",
        "        else:\n",
        "            raise TypeError(\"Unsupported type for power: {}\".format(type(power)))\n",
        "\n",
        "\n",
        "    def __repr__(self):\n",
        "        return f\"DualNumber(real={self.real}, dual={self.dual})\"\n",
        "\n",
        "def evaluate_gradient_dual_number(func, point):\n",
        "    n = len(point)\n",
        "    result = []\n",
        "    for i in range(n):\n",
        "        dual_point = [DualNumber(val, 1 if j == i else 0) for j, val in enumerate(point)]\n",
        "        output = func(*dual_point)\n",
        "        result.append(output.dual)\n",
        "    return func(*[DualNumber(x, 0) for x in point]).real, result"
      ],
      "metadata": {
        "id": "R7rHhcoei3Gw"
      },
      "execution_count": 61,
      "outputs": []
    },
    {
      "cell_type": "code",
      "source": [
        "def f1(*args):\n",
        "    return sum(x**2 for x in args)\n",
        "\n",
        "# Вычисления для f1\n",
        "start_time = time.time()\n",
        "\n",
        "results = []\n",
        "for point in all_points_f1:\n",
        "    value, gradients = evaluate_gradient_dual_number(f1, point)\n",
        "    results.append((point, value, gradients))\n",
        "\n",
        "end_time = time.time()\n",
        "\n",
        "# Результаты\n",
        "print(f\"Время выполнения: {end_time - start_time:.2f} секунд\")\n",
        "print(f\"Пример результата для точки {all_points[len(results)//3]}\")\n",
        "print(f\"Значение функции: {results[len(results)//3][1]}\")\n",
        "print(f\"Градиенты: {results[len(results)//3][2]}\")"
      ],
      "metadata": {
        "colab": {
          "base_uri": "https://localhost:8080/"
        },
        "id": "lZ_pdZxecJ9R",
        "outputId": "0be29439-3e23-4131-a0a9-65c890e9d954"
      },
      "execution_count": 59,
      "outputs": [
        {
          "output_type": "stream",
          "name": "stdout",
          "text": [
            "Время выполнения: 13.09 секунд\n",
            "Пример результата для точки (1.3, 1.7000000000000002, 1.3, 1.7000000000000002, 1.3)\n",
            "Значение функции: 1.2500000000000002\n",
            "Градиенты: [0.6000000000000001, 1.4000000000000001, 0.6000000000000001, 1.4000000000000001, 0.6000000000000001]\n"
          ]
        }
      ]
    },
    {
      "cell_type": "code",
      "source": [
        "def f2(*args):\n",
        "    return sum(x**x for x in args)\n",
        "\n",
        "# Вычисления для f2\n",
        "start_time = time.time()\n",
        "\n",
        "results = []\n",
        "for point in all_points_f2:\n",
        "    value, gradients = evaluate_gradient_dual_number(f2, point)\n",
        "    results.append((point, value, gradients))\n",
        "\n",
        "end_time = time.time()\n",
        "\n",
        "# Результаты\n",
        "print(f\"Время выполнения: {end_time - start_time:.2f} секунд\")\n",
        "print(f\"Пример результата для точки {all_points[len(results)//3]}\")\n",
        "print(f\"Значение функции: {results[len(results)//3][1]}\")\n",
        "print(f\"Градиенты: {results[len(results)//3][2]}\")"
      ],
      "metadata": {
        "colab": {
          "base_uri": "https://localhost:8080/"
        },
        "id": "u_Wg_ccQeL-N",
        "outputId": "9fe73f9f-6403-4615-a2e1-8282754440a4"
      },
      "execution_count": 64,
      "outputs": [
        {
          "output_type": "stream",
          "name": "stdout",
          "text": [
            "Время выполнения: 20.11 секунд\n",
            "Пример результата для точки (1.3, 1.7000000000000002, 1.3, 1.7000000000000002, 1.3)\n",
            "Значение функции: 9.148759818683398\n",
            "Градиенты: [1.7754606438173388, 3.77253164340038, 1.7754606438173388, 3.77253164340038, 1.7754606438173388]\n"
          ]
        }
      ]
    },
    {
      "cell_type": "markdown",
      "source": [
        "# ДЗ"
      ],
      "metadata": {
        "id": "uluIaf11gMbu"
      }
    },
    {
      "cell_type": "code",
      "source": [
        "class Node:\n",
        "    def __init__(self, value, parents=None, grad_fn=None):\n",
        "        \"\"\"\n",
        "        Узел вычислительного графа.\n",
        "        :param value: Значение функции в этом узле.\n",
        "        :param parents: Список родительских узлов.\n",
        "        :param grad_fn: Функция для вычисления локальных градиентов.\n",
        "        \"\"\"\n",
        "        self.value = value\n",
        "        self.parents = parents if parents else []\n",
        "        self.grad_fn = grad_fn\n",
        "        self.grad = 0  # Градиент, который будет вычислен в процессе backward\n",
        "\n",
        "    def backward(self, grad=1.0):\n",
        "        \"\"\"\n",
        "        Обратный проход для вычисления градиентов.\n",
        "        :param grad: Градиент от текущего узла.\n",
        "        \"\"\"\n",
        "        self.grad += grad\n",
        "        if self.grad_fn and self.parents:\n",
        "            local_grads = self.grad_fn(grad)\n",
        "            for parent, local_grad in zip(self.parents, local_grads):\n",
        "                parent.backward(local_grad)\n",
        "\n",
        "    def __add__(self, other):\n",
        "        if not isinstance(other, Node):\n",
        "            other = Node(other)\n",
        "        value = self.value + other.value\n",
        "        return Node(value, [self, other], lambda g: [g, g])\n",
        "\n",
        "    def __mul__(self, other):\n",
        "        if not isinstance(other, Node):\n",
        "            other = Node(other)\n",
        "        value = self.value * other.value\n",
        "        return Node(value, [self, other], lambda g: [g * other.value, g * self.value])\n",
        "\n",
        "    def __pow__(self, power):\n",
        "        if isinstance(power, (int, float)):\n",
        "            # Если степень - число\n",
        "            value = self.value**power\n",
        "            return Node(value, [self], lambda g: [g * power * self.value**(power - 1)])\n",
        "        elif isinstance(power, Node):\n",
        "            # Если степень - объект Node\n",
        "            value = self.value**power.value\n",
        "            log_base = np.log(self.value) if self.value > 0 else 0  # Проверяем положительность\n",
        "            return Node(value, [self, power], lambda g: [\n",
        "                g * power.value * self.value**(power.value - 1),  # Производная по основанию\n",
        "                g * value * log_base                             # Производная по степени\n",
        "            ])\n",
        "        else:\n",
        "            raise TypeError(\"Unsupported type for power: {}\".format(type(power)))\n",
        "\n",
        "    def __repr__(self):\n",
        "        return f\"Node(value={self.value}, grad={self.grad})\"\n",
        "\n",
        "\n",
        "def evaluate_gradient_backward_mode(func, point):\n",
        "    \"\"\"\n",
        "    Вычисляет значение функции и градиенты через backward mode autodiff.\n",
        "    :param func: Функция для анализа.\n",
        "    :param point: Точка, в которой нужно вычислить значение и градиенты.\n",
        "    :return: Значение функции и градиенты.\n",
        "    \"\"\"\n",
        "    # Создаем узлы для входных значений\n",
        "    nodes = [Node(x) for x in point]\n",
        "\n",
        "    # Вычисляем значение функции\n",
        "    result = func(*nodes)\n",
        "\n",
        "    # Обратный проход для вычисления градиентов\n",
        "    result.backward()\n",
        "\n",
        "    # Градиенты - это накопленные значения в каждом входном узле\n",
        "    gradients = [node.grad for node in nodes]\n",
        "    return result.value, gradients"
      ],
      "metadata": {
        "id": "elPJudIbgB8X"
      },
      "execution_count": 65,
      "outputs": []
    },
    {
      "cell_type": "code",
      "source": [
        "def f1(*args):\n",
        "    initial_node = Node(0)\n",
        "    for x in args:\n",
        "        initial_node = initial_node + (x ** 2)  # Use Node's __add__ and __pow__\n",
        "    return initial_node\n",
        "\n",
        "# Вычисления для f1\n",
        "start_time = time.time()\n",
        "\n",
        "results = []\n",
        "for point in all_points_f1:\n",
        "    value, gradients = evaluate_gradient_backward_mode(f1, point)\n",
        "    results.append((point, value, gradients))\n",
        "\n",
        "end_time = time.time()\n",
        "\n",
        "# Результаты\n",
        "print(f\"Время выполнения: {end_time - start_time:.2f} секунд\")\n",
        "print(f\"Пример результата для точки {all_points[len(results)//3]}\")\n",
        "print(f\"Градиенты: {results[len(results)//3][2]}\")"
      ],
      "metadata": {
        "colab": {
          "base_uri": "https://localhost:8080/"
        },
        "id": "vy2ZvDyXjNjp",
        "outputId": "0eceb1d5-ccd6-4825-e2a3-b1e260176bfc"
      },
      "execution_count": 66,
      "outputs": [
        {
          "output_type": "stream",
          "name": "stdout",
          "text": [
            "Время выполнения: 5.38 секунд\n",
            "Пример результата для точки (1.3, 1.7000000000000002, 1.3, 1.7000000000000002, 1.3)\n",
            "Градиенты: [0.6000000000000001, 1.4000000000000001, 0.6000000000000001, 1.4000000000000001, 0.6000000000000001]\n"
          ]
        }
      ]
    },
    {
      "cell_type": "code",
      "source": [
        "def f2(*args):\n",
        "    initial_node = Node(0)\n",
        "    for x in args:\n",
        "        initial_node = initial_node + (x ** x)  # Use Node's __add__ and __pow__\n",
        "    return initial_node\n",
        "\n",
        "# Вычисления для f1\n",
        "start_time = time.time()\n",
        "\n",
        "results = []\n",
        "for point in all_points_f2:\n",
        "    value, gradients = evaluate_gradient_backward_mode(f2, point)\n",
        "    results.append((point, value, gradients))\n",
        "\n",
        "end_time = time.time()\n",
        "\n",
        "# Результаты\n",
        "print(f\"Время выполнения: {end_time - start_time:.2f} секунд\")\n",
        "print(f\"Пример результата для точки {all_points[len(results)//3]}\")\n",
        "print(f\"Градиенты: {results[len(results)//3][2]}\")"
      ],
      "metadata": {
        "colab": {
          "base_uri": "https://localhost:8080/"
        },
        "id": "9HyQQd7gkA1h",
        "outputId": "fe02b60f-f12e-4723-f0f0-192e6ab33b7c"
      },
      "execution_count": 67,
      "outputs": [
        {
          "output_type": "stream",
          "name": "stdout",
          "text": [
            "Время выполнения: 6.18 секунд\n",
            "Пример результата для точки (1.3, 1.7000000000000002, 1.3, 1.7000000000000002, 1.3)\n",
            "Градиенты: [1.7754606438173388, 3.772531643400379, 1.7754606438173388, 3.772531643400379, 1.7754606438173388]\n"
          ]
        }
      ]
    }
  ]
}
